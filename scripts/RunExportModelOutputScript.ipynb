{
 "cells": [
  {
   "cell_type": "markdown",
   "metadata": {},
   "source": [
    "# Run the export model output script"
   ]
  },
  {
   "cell_type": "markdown",
   "metadata": {},
   "source": [
    "First create a new empty Json file for the Model output, create a new folder which is called inspect_sjon/model_sex"
   ]
  },
  {
   "cell_type": "code",
   "execution_count": 1,
   "metadata": {},
   "outputs": [],
   "source": [
    "import os\n",
    "import json\n"
   ]
  },
  {
   "cell_type": "code",
   "execution_count": 2,
   "metadata": {},
   "outputs": [
    {
     "name": "stdout",
     "output_type": "stream",
     "text": [
      "'/home/magali/ct_classifier/model_states_sexBasic' is a directory\n"
     ]
    }
   ],
   "source": [
    "path = '/home/magali/ct_classifier/model_states_sexBasic'\n",
    "if os.path.isdir(path):\n",
    "    print(f\"'{path}' is a directory\")\n",
    "elif os.path.isfile(path):\n",
    "    print(f\"'{path}' is a file\")\n",
    "else:\n",
    "    print(f\"'{path}' does not exist\")"
   ]
  },
  {
   "cell_type": "code",
   "execution_count": 3,
   "metadata": {},
   "outputs": [],
   "source": [
    "# Using an empty object\n",
    "with open('/home/magali/ct_classifier/inspect_json/model_sex/ModelOutput_SexBasic.json', 'w') as file:\n",
    "    json.dump({}, file)\n",
    "\n",
    "# Alternatively, using an empty array\n",
    "# with open('empty.json', 'w') as file:\n",
    "#     json.dump([], file)"
   ]
  },
  {
   "cell_type": "code",
   "execution_count": null,
   "metadata": {},
   "outputs": [],
   "source": [
    "# run in terminal\n",
    "\n",
    "python ct_classifier/exportModelOutput.py --config configs/exp_resnet18_sex.yaml --model_path model_states_sexBasic/80.pt --save_json_path inspect_json/model_sex/ModelOutput_SexBasic.json"
   ]
  }
 ],
 "metadata": {
  "kernelspec": {
   "display_name": "cv4e_env_new",
   "language": "python",
   "name": "python3"
  },
  "language_info": {
   "codemirror_mode": {
    "name": "ipython",
    "version": 3
   },
   "file_extension": ".py",
   "mimetype": "text/x-python",
   "name": "python",
   "nbconvert_exporter": "python",
   "pygments_lexer": "ipython3",
   "version": "3.9.0"
  },
  "orig_nbformat": 4
 },
 "nbformat": 4,
 "nbformat_minor": 2
}
