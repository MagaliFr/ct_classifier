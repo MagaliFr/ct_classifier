{
 "cells": [
  {
   "cell_type": "code",
   "execution_count": 2,
   "metadata": {},
   "outputs": [
    {
     "name": "stdout",
     "output_type": "stream",
     "text": [
      "'/home/magali/ct_classifier/model_states_sex' is a directory\n"
     ]
    }
   ],
   "source": [
    "import os\n",
    "\n",
    "path = '/home/magali/ct_classifier/model_states_sex'\n",
    "if os.path.isdir(path):\n",
    "    print(f\"'{path}' is a directory\")\n",
    "elif os.path.isfile(path):\n",
    "    print(f\"'{path}' is a file\")\n",
    "else:\n",
    "    print(f\"'{path}' does not exist\")"
   ]
  },
  {
   "cell_type": "code",
   "execution_count": 3,
   "metadata": {},
   "outputs": [],
   "source": [
    "import json\n",
    "\n",
    "# Using an empty object\n",
    "with open('/home/magali/ct_classifier/inspect_json/model_sex/ModelOutput.json', 'w') as file:\n",
    "    json.dump({}, file)\n",
    "\n",
    "# Alternatively, using an empty array\n",
    "# with open('empty.json', 'w') as file:\n",
    "#     json.dump([], file)"
   ]
  }
 ],
 "metadata": {
  "kernelspec": {
   "display_name": "cv4e_env",
   "language": "python",
   "name": "python3"
  },
  "language_info": {
   "codemirror_mode": {
    "name": "ipython",
    "version": 3
   },
   "file_extension": ".py",
   "mimetype": "text/x-python",
   "name": "python",
   "nbconvert_exporter": "python",
   "pygments_lexer": "ipython3",
   "version": "3.9.0"
  },
  "orig_nbformat": 4
 },
 "nbformat": 4,
 "nbformat_minor": 2
}
