{
 "cells": [
  {
   "cell_type": "code",
   "execution_count": 7,
   "metadata": {},
   "outputs": [
    {
     "name": "stdout",
     "output_type": "stream",
     "text": [
      "Requirement already satisfied: comet_ml in /home/magali/miniconda3/envs/cv4e_env/lib/python3.9/site-packages (3.33.8)\n",
      "Requirement already satisfied: jsonschema!=3.1.0,>=2.6.0 in /home/magali/miniconda3/envs/cv4e_env/lib/python3.9/site-packages (from comet_ml) (4.19.0)\n",
      "Requirement already satisfied: psutil>=5.6.3 in /home/magali/miniconda3/envs/cv4e_env/lib/python3.9/site-packages (from comet_ml) (5.9.0)\n",
      "Requirement already satisfied: python-box<7.0.0 in /home/magali/miniconda3/envs/cv4e_env/lib/python3.9/site-packages (from comet_ml) (6.1.0)\n",
      "Requirement already satisfied: requests-toolbelt>=0.8.0 in /home/magali/miniconda3/envs/cv4e_env/lib/python3.9/site-packages (from comet_ml) (1.0.0)\n",
      "Requirement already satisfied: requests>=2.18.4 in /home/magali/miniconda3/envs/cv4e_env/lib/python3.9/site-packages (from comet_ml) (2.31.0)\n",
      "Requirement already satisfied: semantic-version>=2.8.0 in /home/magali/miniconda3/envs/cv4e_env/lib/python3.9/site-packages (from comet_ml) (2.10.0)\n",
      "Requirement already satisfied: sentry-sdk>=1.1.0 in /home/magali/miniconda3/envs/cv4e_env/lib/python3.9/site-packages (from comet_ml) (1.29.2)\n",
      "Requirement already satisfied: simplejson in /home/magali/miniconda3/envs/cv4e_env/lib/python3.9/site-packages (from comet_ml) (3.19.1)\n",
      "Requirement already satisfied: six in /home/magali/miniconda3/envs/cv4e_env/lib/python3.9/site-packages (from comet_ml) (1.16.0)\n",
      "Requirement already satisfied: urllib3>=1.21.1 in /home/magali/miniconda3/envs/cv4e_env/lib/python3.9/site-packages (from comet_ml) (2.0.4)\n",
      "Requirement already satisfied: websocket-client<1.4.0,>=0.55.0 in /home/magali/miniconda3/envs/cv4e_env/lib/python3.9/site-packages (from comet_ml) (1.3.3)\n",
      "Requirement already satisfied: wrapt>=1.11.2 in /home/magali/miniconda3/envs/cv4e_env/lib/python3.9/site-packages (from comet_ml) (1.15.0)\n",
      "Requirement already satisfied: wurlitzer>=1.0.2 in /home/magali/miniconda3/envs/cv4e_env/lib/python3.9/site-packages (from comet_ml) (3.0.3)\n",
      "Requirement already satisfied: everett[ini]<3.2.0,>=1.0.1 in /home/magali/miniconda3/envs/cv4e_env/lib/python3.9/site-packages (from comet_ml) (3.1.0)\n",
      "Requirement already satisfied: dulwich!=0.20.33,>=0.20.6 in /home/magali/miniconda3/envs/cv4e_env/lib/python3.9/site-packages (from comet_ml) (0.21.5)\n",
      "Requirement already satisfied: rich>=13.3.2 in /home/magali/miniconda3/envs/cv4e_env/lib/python3.9/site-packages (from comet_ml) (13.5.2)\n",
      "Requirement already satisfied: configobj in /home/magali/miniconda3/envs/cv4e_env/lib/python3.9/site-packages (from everett[ini]<3.2.0,>=1.0.1->comet_ml) (5.0.8)\n",
      "Requirement already satisfied: attrs>=22.2.0 in /home/magali/miniconda3/envs/cv4e_env/lib/python3.9/site-packages (from jsonschema!=3.1.0,>=2.6.0->comet_ml) (23.1.0)\n",
      "Requirement already satisfied: jsonschema-specifications>=2023.03.6 in /home/magali/miniconda3/envs/cv4e_env/lib/python3.9/site-packages (from jsonschema!=3.1.0,>=2.6.0->comet_ml) (2023.7.1)\n",
      "Requirement already satisfied: referencing>=0.28.4 in /home/magali/miniconda3/envs/cv4e_env/lib/python3.9/site-packages (from jsonschema!=3.1.0,>=2.6.0->comet_ml) (0.30.2)\n",
      "Requirement already satisfied: rpds-py>=0.7.1 in /home/magali/miniconda3/envs/cv4e_env/lib/python3.9/site-packages (from jsonschema!=3.1.0,>=2.6.0->comet_ml) (0.9.2)\n",
      "Requirement already satisfied: charset-normalizer<4,>=2 in /home/magali/miniconda3/envs/cv4e_env/lib/python3.9/site-packages (from requests>=2.18.4->comet_ml) (3.2.0)\n",
      "Requirement already satisfied: idna<4,>=2.5 in /home/magali/miniconda3/envs/cv4e_env/lib/python3.9/site-packages (from requests>=2.18.4->comet_ml) (3.4)\n",
      "Requirement already satisfied: certifi>=2017.4.17 in /home/magali/miniconda3/envs/cv4e_env/lib/python3.9/site-packages (from requests>=2.18.4->comet_ml) (2023.7.22)\n",
      "Requirement already satisfied: markdown-it-py>=2.2.0 in /home/magali/miniconda3/envs/cv4e_env/lib/python3.9/site-packages (from rich>=13.3.2->comet_ml) (3.0.0)\n",
      "Requirement already satisfied: pygments<3.0.0,>=2.13.0 in /home/magali/miniconda3/envs/cv4e_env/lib/python3.9/site-packages (from rich>=13.3.2->comet_ml) (2.16.1)\n",
      "Requirement already satisfied: mdurl~=0.1 in /home/magali/miniconda3/envs/cv4e_env/lib/python3.9/site-packages (from markdown-it-py>=2.2.0->rich>=13.3.2->comet_ml) (0.1.2)\n",
      "Collecting matplotlib\n",
      "  Obtaining dependency information for matplotlib from https://files.pythonhosted.org/packages/47/b9/6c0daa9b953a80b4e6933bf6a11a2d0633f257e84ee5995c5fd35de564c9/matplotlib-3.7.2-cp39-cp39-manylinux_2_17_x86_64.manylinux2014_x86_64.whl.metadata\n",
      "  Downloading matplotlib-3.7.2-cp39-cp39-manylinux_2_17_x86_64.manylinux2014_x86_64.whl.metadata (5.6 kB)\n",
      "Collecting contourpy>=1.0.1 (from matplotlib)\n",
      "  Obtaining dependency information for contourpy>=1.0.1 from https://files.pythonhosted.org/packages/38/6f/5382bdff9dda60cb17cef6dfa2bad3e6edacffd5c2243e282e851c63f721/contourpy-1.1.0-cp39-cp39-manylinux_2_17_x86_64.manylinux2014_x86_64.whl.metadata\n",
      "  Downloading contourpy-1.1.0-cp39-cp39-manylinux_2_17_x86_64.manylinux2014_x86_64.whl.metadata (5.7 kB)\n",
      "Collecting cycler>=0.10 (from matplotlib)\n",
      "  Downloading cycler-0.11.0-py3-none-any.whl (6.4 kB)\n",
      "Collecting fonttools>=4.22.0 (from matplotlib)\n",
      "  Obtaining dependency information for fonttools>=4.22.0 from https://files.pythonhosted.org/packages/49/50/2e31753c088d364756daa5bed0dab6a5928ebfd6e6d26f975c8b6d6f754a/fonttools-4.42.1-cp39-cp39-manylinux_2_17_x86_64.manylinux2014_x86_64.whl.metadata\n",
      "  Downloading fonttools-4.42.1-cp39-cp39-manylinux_2_17_x86_64.manylinux2014_x86_64.whl.metadata (150 kB)\n",
      "\u001b[2K     \u001b[90m━━━━━━━━━━━━━━━━━━━━━━━━━━━━━━━━━━━━━━\u001b[0m \u001b[32m151.0/151.0 kB\u001b[0m \u001b[31m10.9 MB/s\u001b[0m eta \u001b[36m0:00:00\u001b[0m\n",
      "\u001b[?25hCollecting kiwisolver>=1.0.1 (from matplotlib)\n",
      "  Downloading kiwisolver-1.4.4-cp39-cp39-manylinux_2_12_x86_64.manylinux2010_x86_64.whl (1.6 MB)\n",
      "\u001b[2K     \u001b[90m━━━━━━━━━━━━━━━━━━━━━━━━━━━━━━━━━━━━━━━━\u001b[0m \u001b[32m1.6/1.6 MB\u001b[0m \u001b[31m74.9 MB/s\u001b[0m eta \u001b[36m0:00:00\u001b[0m\n",
      "\u001b[?25hRequirement already satisfied: numpy>=1.20 in /home/magali/miniconda3/envs/cv4e_env/lib/python3.9/site-packages (from matplotlib) (1.25.2)\n",
      "Requirement already satisfied: packaging>=20.0 in /home/magali/miniconda3/envs/cv4e_env/lib/python3.9/site-packages (from matplotlib) (23.1)\n",
      "Requirement already satisfied: pillow>=6.2.0 in /home/magali/miniconda3/envs/cv4e_env/lib/python3.9/site-packages (from matplotlib) (10.0.0)\n",
      "Collecting pyparsing<3.1,>=2.3.1 (from matplotlib)\n",
      "  Downloading pyparsing-3.0.9-py3-none-any.whl (98 kB)\n",
      "\u001b[2K     \u001b[90m━━━━━━━━━━━━━━━━━━━━━━━━━━━━━━━━━━━━━━━━\u001b[0m \u001b[32m98.3/98.3 kB\u001b[0m \u001b[31m51.8 MB/s\u001b[0m eta \u001b[36m0:00:00\u001b[0m\n",
      "\u001b[?25hRequirement already satisfied: python-dateutil>=2.7 in /home/magali/miniconda3/envs/cv4e_env/lib/python3.9/site-packages (from matplotlib) (2.8.2)\n",
      "Collecting importlib-resources>=3.2.0 (from matplotlib)\n",
      "  Obtaining dependency information for importlib-resources>=3.2.0 from https://files.pythonhosted.org/packages/25/d4/592f53ce2f8dde8be5720851bd0ab71cc2e76c55978e4163ef1ab7e389bb/importlib_resources-6.0.1-py3-none-any.whl.metadata\n",
      "  Downloading importlib_resources-6.0.1-py3-none-any.whl.metadata (4.0 kB)\n",
      "Collecting zipp>=3.1.0 (from importlib-resources>=3.2.0->matplotlib)\n",
      "  Obtaining dependency information for zipp>=3.1.0 from https://files.pythonhosted.org/packages/8c/08/d3006317aefe25ea79d3b76c9650afabaf6d63d1c8443b236e7405447503/zipp-3.16.2-py3-none-any.whl.metadata\n",
      "  Downloading zipp-3.16.2-py3-none-any.whl.metadata (3.7 kB)\n",
      "Requirement already satisfied: six>=1.5 in /home/magali/miniconda3/envs/cv4e_env/lib/python3.9/site-packages (from python-dateutil>=2.7->matplotlib) (1.16.0)\n",
      "Downloading matplotlib-3.7.2-cp39-cp39-manylinux_2_17_x86_64.manylinux2014_x86_64.whl (11.6 MB)\n",
      "\u001b[2K   \u001b[90m━━━━━━━━━━━━━━━━━━━━━━━━━━━━━━━━━━━━━━━━\u001b[0m \u001b[32m11.6/11.6 MB\u001b[0m \u001b[31m67.6 MB/s\u001b[0m eta \u001b[36m0:00:00\u001b[0m:00:01\u001b[0m:01\u001b[0mm\n",
      "\u001b[?25hDownloading contourpy-1.1.0-cp39-cp39-manylinux_2_17_x86_64.manylinux2014_x86_64.whl (300 kB)\n",
      "\u001b[2K   \u001b[90m━━━━━━━━━━━━━━━━━━━━━━━━━━━━━━━━━━━━━━━━\u001b[0m \u001b[32m300.4/300.4 kB\u001b[0m \u001b[31m98.6 MB/s\u001b[0m eta \u001b[36m0:00:00\u001b[0m\n",
      "\u001b[?25hDownloading fonttools-4.42.1-cp39-cp39-manylinux_2_17_x86_64.manylinux2014_x86_64.whl (4.5 MB)\n",
      "\u001b[2K   \u001b[90m━━━━━━━━━━━━━━━━━━━━━━━━━━━━━━━━━━━━━━━━\u001b[0m \u001b[32m4.5/4.5 MB\u001b[0m \u001b[31m101.1 MB/s\u001b[0m eta \u001b[36m0:00:00\u001b[0m00:01\u001b[0m\n",
      "\u001b[?25hDownloading importlib_resources-6.0.1-py3-none-any.whl (34 kB)\n",
      "Downloading zipp-3.16.2-py3-none-any.whl (7.2 kB)\n",
      "Installing collected packages: zipp, pyparsing, kiwisolver, fonttools, cycler, contourpy, importlib-resources, matplotlib\n",
      "Successfully installed contourpy-1.1.0 cycler-0.11.0 fonttools-4.42.1 importlib-resources-6.0.1 kiwisolver-1.4.4 matplotlib-3.7.2 pyparsing-3.0.9 zipp-3.16.2\n"
     ]
    }
   ],
   "source": [
    "!pip install comet_ml\n",
    "!pip install matplotlib\n"
   ]
  },
  {
   "cell_type": "code",
   "execution_count": 8,
   "metadata": {},
   "outputs": [],
   "source": [
    "import torch\n",
    "import yaml\n",
    "import os\n",
    "import comet_ml\n",
    "import torch\n",
    "import torchvision.transforms as transforms\n",
    "import torchvision.datasets as datasets\n",
    "import matplotlib.pyplot as plt"
   ]
  },
  {
   "cell_type": "code",
   "execution_count": 4,
   "metadata": {},
   "outputs": [],
   "source": [
    "os.getcwd()\n",
    "os.chdir('/home/magali/ct_classifier/ct_classifier')"
   ]
  },
  {
   "cell_type": "markdown",
   "metadata": {},
   "source": [
    "Load model"
   ]
  },
  {
   "cell_type": "code",
   "execution_count": 5,
   "metadata": {},
   "outputs": [],
   "source": [
    "\n",
    "from train import load_model\n",
    "from train import create_dataloader"
   ]
  },
  {
   "cell_type": "code",
   "execution_count": 13,
   "metadata": {},
   "outputs": [
    {
     "name": "stdout",
     "output_type": "stream",
     "text": [
      "Starting new model\n",
      "<class 'model.CustomResNet18'>\n",
      "torch.Size([128, 3, 224, 224])\n",
      "cuda:0\n",
      "cuda\n",
      "tensor([[-0.3569,  0.6550],\n",
      "        [-0.0213,  0.2175],\n",
      "        [-0.5074,  0.2675],\n",
      "        [-0.6335,  0.6698],\n",
      "        [-0.6585,  0.1761],\n",
      "        [-0.3228,  0.1392],\n",
      "        [-0.2059,  0.4426],\n",
      "        [-0.2553,  0.3662],\n",
      "        [-0.5018,  0.2262],\n",
      "        [-0.6521,  0.1789],\n",
      "        [-0.5552, -0.5251],\n",
      "        [-0.4697,  0.2440],\n",
      "        [-1.0014,  0.2380],\n",
      "        [-0.9458,  0.8352],\n",
      "        [-0.2271,  0.4017],\n",
      "        [-0.2169, -0.0313],\n",
      "        [-0.3550,  0.4714],\n",
      "        [-1.3951,  0.4893],\n",
      "        [-0.1500, -0.0348],\n",
      "        [-0.3950,  0.6661],\n",
      "        [-0.5056,  0.0186],\n",
      "        [-0.9350, -0.2051],\n",
      "        [-0.3283,  0.2039],\n",
      "        [-0.4771,  0.1377],\n",
      "        [-0.4181,  0.3464],\n",
      "        [-0.9590,  0.8736],\n",
      "        [-0.6277, -0.0192],\n",
      "        [-0.5240,  0.6573],\n",
      "        [-0.4895,  0.2564],\n",
      "        [-1.4332,  0.4507],\n",
      "        [-0.2527,  0.4595],\n",
      "        [-0.5011,  0.7091],\n",
      "        [-0.1565,  0.3377],\n",
      "        [-0.4534,  0.0287],\n",
      "        [-0.5200,  0.3336],\n",
      "        [-0.3345,  0.3659],\n",
      "        [-0.3972,  0.3272],\n",
      "        [-0.7540, -0.0954],\n",
      "        [-1.3235,  0.7111],\n",
      "        [-0.9077,  0.1349],\n",
      "        [-0.4278,  0.8061],\n",
      "        [-0.4157,  0.3935],\n",
      "        [-0.9818,  0.1175],\n",
      "        [-0.7763,  0.1399],\n",
      "        [-0.6378, -0.0746],\n",
      "        [-0.3535,  0.1111],\n",
      "        [-0.3168,  0.7296],\n",
      "        [-0.5561,  0.1445],\n",
      "        [-1.1386, -0.0914],\n",
      "        [-0.1868,  0.2621],\n",
      "        [-1.8511,  0.4703],\n",
      "        [-0.9878, -0.1202],\n",
      "        [-0.3717,  0.4496],\n",
      "        [-0.6986,  0.1353],\n",
      "        [-0.5283,  0.1162],\n",
      "        [-0.2861,  0.8134],\n",
      "        [-0.2954,  0.6304],\n",
      "        [-0.6500,  0.3381],\n",
      "        [-0.4630,  0.1437],\n",
      "        [-0.3358,  0.1513],\n",
      "        [-0.6755,  0.1762],\n",
      "        [-0.5141,  0.1830],\n",
      "        [-0.7334,  0.3384],\n",
      "        [-0.5726,  0.5005],\n",
      "        [-0.7300,  1.2418],\n",
      "        [-0.2087,  0.3484],\n",
      "        [-0.4247,  0.6134],\n",
      "        [-0.5781, -0.0351],\n",
      "        [-0.5428, -0.2235],\n",
      "        [-0.3312,  0.7686],\n",
      "        [-0.7836,  0.8378],\n",
      "        [-0.1318,  0.1966],\n",
      "        [-0.9568,  0.3261],\n",
      "        [-0.5804,  0.1820],\n",
      "        [-0.0827,  0.0438],\n",
      "        [-0.5286,  0.4254],\n",
      "        [-0.5862,  0.4675],\n",
      "        [-0.2705,  0.2092],\n",
      "        [-1.2604,  1.0264],\n",
      "        [-0.8648,  0.8231],\n",
      "        [-0.1978,  0.1950],\n",
      "        [-0.1204,  0.1303],\n",
      "        [ 0.0560,  0.0255],\n",
      "        [-0.3906,  0.0782],\n",
      "        [-1.0211, -0.0556],\n",
      "        [-0.5305,  0.1092],\n",
      "        [-0.2549,  0.7948],\n",
      "        [-0.4175,  0.9388],\n",
      "        [-0.8134, -0.1296],\n",
      "        [-1.2991,  0.5794],\n",
      "        [-0.2922,  0.4383],\n",
      "        [-0.0573,  0.4011],\n",
      "        [-0.4657,  0.1892],\n",
      "        [-0.4994,  0.6882],\n",
      "        [-0.3879,  0.5037],\n",
      "        [-0.1016,  0.0984],\n",
      "        [-0.7183,  0.1449],\n",
      "        [-0.2644,  0.1426],\n",
      "        [-0.9025,  0.5422],\n",
      "        [-0.6410,  0.6355],\n",
      "        [-0.2258,  0.1841],\n",
      "        [-1.0818,  0.1572],\n",
      "        [-0.7288,  1.2214],\n",
      "        [-0.5269,  0.3643],\n",
      "        [-0.4724,  0.3169],\n",
      "        [-0.3252,  0.1647],\n",
      "        [-0.2552,  0.2196],\n",
      "        [-0.6038,  0.1097],\n",
      "        [-0.3873,  0.1880],\n",
      "        [-1.0551,  0.0850],\n",
      "        [-0.2732,  0.2834],\n",
      "        [-0.7312,  0.8340],\n",
      "        [-0.2803,  0.2828],\n",
      "        [-0.3077,  0.5723],\n",
      "        [-0.3855,  0.1912],\n",
      "        [-0.9271,  0.1784],\n",
      "        [-0.8219,  0.2659],\n",
      "        [-1.4546,  0.2824],\n",
      "        [-0.6822,  0.1548],\n",
      "        [-0.8071,  0.1306],\n",
      "        [-0.8762,  0.6101],\n",
      "        [-0.0895,  0.3413],\n",
      "        [-0.3284,  0.3314],\n",
      "        [-1.1166,  0.2401],\n",
      "        [-0.6738,  0.0873],\n",
      "        [-0.7423,  0.6288],\n",
      "        [-0.1291,  0.1696],\n",
      "        [-0.0575, -0.0212]], device='cuda:0')\n"
     ]
    }
   ],
   "source": [
    "# Load model and data and make predictions\n",
    "cfg = yaml.safe_load(open('../configs/exp_resnet18.yaml', 'r'))\n",
    "model, current_epoch = load_model(cfg)\n",
    "#model = torch.load('/home/magali/ct_classifier/model_states/48.pt')['model']\n",
    "print(type(model))\n",
    "\n",
    "dl_val = create_dataloader(cfg, split='val')\n",
    "\n",
    "device = cfg['device']\n",
    "model.to(device)\n",
    "\n",
    "model.eval()\n",
    "\n",
    "with torch.no_grad():               # don't calculate intermediate gradient steps: we don't need them, so this saves memory and is faster\n",
    "        for idx, (data, labels) in enumerate(dl_val):\n",
    "\n",
    "            # put data and labels on device\n",
    "            data, labels = data.to(device), labels.to(device)\n",
    "\n",
    "            print(data.shape)\n",
    "            #print(model.classifier.device)\n",
    "            print(data.device)\n",
    "            print(device)\n",
    "            # forward pass\n",
    "            prediction = model(data)\n",
    "            print(prediction)\n",
    "            break\n"
   ]
  },
  {
   "cell_type": "code",
   "execution_count": 16,
   "metadata": {},
   "outputs": [
    {
     "name": "stdout",
     "output_type": "stream",
     "text": [
      "tensor([-0.3569,  0.6550], device='cuda:0')\n"
     ]
    }
   ],
   "source": [
    "print(prediction[0])"
   ]
  },
  {
   "cell_type": "code",
   "execution_count": 15,
   "metadata": {},
   "outputs": [
    {
     "name": "stdout",
     "output_type": "stream",
     "text": [
      "torch.Size([3, 224, 224])\n"
     ]
    }
   ],
   "source": [
    "print(data[2].shape)"
   ]
  },
  {
   "cell_type": "code",
   "execution_count": 10,
   "metadata": {},
   "outputs": [],
   "source": [
    "# Cell 2: Load Model and Data\n",
    "\n",
    "# Load model\n",
    "#device = torch.device(\"cuda\" if torch.cuda.is_available() else \"cpu\")\n",
    "#model = torch.load(\"model.pth\")\n",
    "#model.eval()\n",
    "#model.to(device)\n",
    "\n",
    "# Load CIFAR-10 test dataset\n",
    "transform = transforms.Compose([\n",
    "    transforms.ToTensor(),\n",
    "    transforms.Normalize((0.5, 0.5, 0.5), (0.5, 0.5, 0.5))\n",
    "])\n",
    "\n",
    "\n"
   ]
  },
  {
   "cell_type": "code",
   "execution_count": null,
   "metadata": {},
   "outputs": [],
   "source": [
    "test_dataset = datasets.CIFAR10(root='./data', train=False, download=True, transform=transform)\n",
    "test_loader = dl_val\n",
    "\n",
    "classes = ('plane', 'car', 'bird', 'cat', 'deer', 'dog', 'frog', 'horse', 'ship', 'truck')"
   ]
  },
  {
   "cell_type": "code",
   "execution_count": 11,
   "metadata": {},
   "outputs": [],
   "source": [
    "# Visualize Predictions\n",
    "#dataiter = iter(test_loader)\n",
    "#images, labels = dataiter.next()\n",
    "# Make predictions\n",
    "#outputs = model(images.to(device))\n",
    "#_, predicted = torch.max(outputs, 1)\n",
    "\n",
    "# Function to unnormalize and display an image\n",
    "def imshow(img):\n",
    "    #img = img / 2 + 0.5     # unnormalize\n",
    "    npimg = img.numpy()\n",
    "    plt.imshow(np.transpose(npimg, (1, 2, 0)))\n",
    "    plt.show()\n",
    "\n"
   ]
  },
  {
   "cell_type": "code",
   "execution_count": 12,
   "metadata": {},
   "outputs": [
    {
     "ename": "NameError",
     "evalue": "name 'torchvision' is not defined",
     "output_type": "error",
     "traceback": [
      "\u001b[0;31m---------------------------------------------------------------------------\u001b[0m",
      "\u001b[0;31mNameError\u001b[0m                                 Traceback (most recent call last)",
      "Cell \u001b[0;32mIn[12], line 2\u001b[0m\n\u001b[1;32m      1\u001b[0m \u001b[39m# Plot images, true labels, and predicted labels\u001b[39;00m\n\u001b[0;32m----> 2\u001b[0m imshow(torchvision\u001b[39m.\u001b[39mutils\u001b[39m.\u001b[39mmake_grid(images))\n\u001b[1;32m      3\u001b[0m \u001b[39mprint\u001b[39m(\u001b[39m'\u001b[39m\u001b[39mTrue labels: \u001b[39m\u001b[39m'\u001b[39m, \u001b[39m'\u001b[39m\u001b[39m \u001b[39m\u001b[39m'\u001b[39m\u001b[39m.\u001b[39mjoin(\u001b[39m'\u001b[39m\u001b[39m%5s\u001b[39;00m\u001b[39m'\u001b[39m \u001b[39m%\u001b[39m classes[labels[j]] \u001b[39mfor\u001b[39;00m j \u001b[39min\u001b[39;00m \u001b[39mrange\u001b[39m(\u001b[39m16\u001b[39m)))\n\u001b[1;32m      4\u001b[0m \u001b[39mprint\u001b[39m(\u001b[39m'\u001b[39m\u001b[39mPredicted labels: \u001b[39m\u001b[39m'\u001b[39m, \u001b[39m'\u001b[39m\u001b[39m \u001b[39m\u001b[39m'\u001b[39m\u001b[39m.\u001b[39mjoin(\u001b[39m'\u001b[39m\u001b[39m%5s\u001b[39;00m\u001b[39m'\u001b[39m \u001b[39m%\u001b[39m classes[predicted[j]] \u001b[39mfor\u001b[39;00m j \u001b[39min\u001b[39;00m \u001b[39mrange\u001b[39m(\u001b[39m16\u001b[39m)))\n",
      "\u001b[0;31mNameError\u001b[0m: name 'torchvision' is not defined"
     ]
    }
   ],
   "source": [
    "# Plot images, true labels, and predicted labels\n",
    "imshow(torchvision.utils.make_grid(images))\n",
    "print('True labels: ', ' '.join('%5s' % classes[labels[j]] for j in range(16)))\n",
    "print('Predicted labels: ', ' '.join('%5s' % classes[predicted[j]] for j in range(16)))"
   ]
  }
 ],
 "metadata": {
  "kernelspec": {
   "display_name": "cv4e_env",
   "language": "python",
   "name": "python3"
  },
  "language_info": {
   "codemirror_mode": {
    "name": "ipython",
    "version": 3
   },
   "file_extension": ".py",
   "mimetype": "text/x-python",
   "name": "python",
   "nbconvert_exporter": "python",
   "pygments_lexer": "ipython3",
   "version": "3.9.0"
  },
  "orig_nbformat": 4
 },
 "nbformat": 4,
 "nbformat_minor": 2
}
